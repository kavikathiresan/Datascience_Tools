{
 "cells": [
  {
   "cell_type": "code",
   "execution_count": 1,
   "id": "aa8ad803",
   "metadata": {},
   "outputs": [],
   "source": [
    "import numpy as np"
   ]
  },
  {
   "cell_type": "code",
   "execution_count": 8,
   "id": "9e0e926e",
   "metadata": {},
   "outputs": [
    {
     "data": {
      "text/plain": [
       "int"
      ]
     },
     "execution_count": 8,
     "metadata": {},
     "output_type": "execute_result"
    }
   ],
   "source": [
    "a = 1 # numeric \n",
    "type(a)"
   ]
  },
  {
   "cell_type": "code",
   "execution_count": 9,
   "id": "33bda3eb",
   "metadata": {},
   "outputs": [
    {
     "data": {
      "text/plain": [
       "float"
      ]
     },
     "execution_count": 9,
     "metadata": {},
     "output_type": "execute_result"
    }
   ],
   "source": [
    "a = 12.2\n",
    "type(a)"
   ]
  },
  {
   "cell_type": "code",
   "execution_count": 10,
   "id": "8f1d0eda",
   "metadata": {},
   "outputs": [
    {
     "data": {
      "text/plain": [
       "str"
      ]
     },
     "execution_count": 10,
     "metadata": {},
     "output_type": "execute_result"
    }
   ],
   "source": [
    "b = 'python'\n",
    "type(b)"
   ]
  },
  {
   "cell_type": "code",
   "execution_count": 5,
   "id": "ebe71745",
   "metadata": {},
   "outputs": [
    {
     "name": "stdout",
     "output_type": "stream",
     "text": [
      "[1, 2, 3, 4, 5, 6, 7, 8, 9, 10]\n"
     ]
    }
   ],
   "source": [
    "a = []\n",
    "for i in range(1,11):\n",
    "    a.append(i)\n",
    "print(a)"
   ]
  },
  {
   "cell_type": "markdown",
   "id": "6b364156",
   "metadata": {},
   "source": [
    "# Scalar"
   ]
  },
  {
   "cell_type": "raw",
   "id": "1099c488",
   "metadata": {},
   "source": [
    " is just a value and there is no dimensional array"
   ]
  },
  {
   "cell_type": "code",
   "execution_count": 16,
   "id": "7a5deb6a",
   "metadata": {},
   "outputs": [
    {
     "name": "stdout",
     "output_type": "stream",
     "text": [
      "[1, 2, 'kamal']\n"
     ]
    },
    {
     "ename": "AttributeError",
     "evalue": "'list' object has no attribute 'shape'",
     "output_type": "error",
     "traceback": [
      "\u001b[1;31m---------------------------------------------------------------------------\u001b[0m",
      "\u001b[1;31mAttributeError\u001b[0m                            Traceback (most recent call last)",
      "Cell \u001b[1;32mIn[16], line 4\u001b[0m\n\u001b[0;32m      1\u001b[0m b \u001b[38;5;241m=\u001b[39m [\u001b[38;5;241m1\u001b[39m , \u001b[38;5;241m2\u001b[39m , \u001b[38;5;124m'\u001b[39m\u001b[38;5;124mkamal\u001b[39m\u001b[38;5;124m'\u001b[39m]\n\u001b[0;32m      2\u001b[0m \u001b[38;5;28mprint\u001b[39m(b)\n\u001b[1;32m----> 4\u001b[0m \u001b[38;5;28mprint\u001b[39m(\u001b[43mb\u001b[49m\u001b[38;5;241;43m.\u001b[39;49m\u001b[43mshape\u001b[49m)\n",
      "\u001b[1;31mAttributeError\u001b[0m: 'list' object has no attribute 'shape'"
     ]
    }
   ],
   "source": [
    "\n",
    "b = [1 , 2 , 'kamal']\n",
    "print(b)\n",
    "\n",
    "print(b.shape) "
   ]
  },
  {
   "cell_type": "markdown",
   "id": "2d164f52",
   "metadata": {},
   "source": [
    "# shape"
   ]
  },
  {
   "cell_type": "code",
   "execution_count": 12,
   "id": "dcf88075",
   "metadata": {},
   "outputs": [],
   "source": [
    "# shape finds rows and columns"
   ]
  },
  {
   "cell_type": "markdown",
   "id": "8c0150a3",
   "metadata": {},
   "source": [
    "# Vector"
   ]
  },
  {
   "cell_type": "code",
   "execution_count": 12,
   "id": "0f3536f8",
   "metadata": {},
   "outputs": [],
   "source": [
    "import numpy as np"
   ]
  },
  {
   "cell_type": "code",
   "execution_count": 18,
   "id": "f53cee89",
   "metadata": {},
   "outputs": [
    {
     "name": "stdout",
     "output_type": "stream",
     "text": [
      "[10 11 12 13 14 15 16 17 18 19]\n"
     ]
    }
   ],
   "source": [
    "# single dimension\n",
    "a = np.arange(10,20)\n",
    "print(a)"
   ]
  },
  {
   "cell_type": "code",
   "execution_count": 19,
   "id": "75e03e65",
   "metadata": {},
   "outputs": [
    {
     "name": "stdout",
     "output_type": "stream",
     "text": [
      "[10 11 12 13 14 15 16 17 18 19]\n",
      "<class 'numpy.ndarray'>\n"
     ]
    }
   ],
   "source": [
    "a = np.arange(10,20)\n",
    "print(a)\n",
    "print(type(a))"
   ]
  },
  {
   "cell_type": "markdown",
   "id": "e9aaea80",
   "metadata": {},
   "source": [
    "# ndim = No of dimensions"
   ]
  },
  {
   "cell_type": "code",
   "execution_count": 21,
   "id": "cba83228",
   "metadata": {},
   "outputs": [
    {
     "name": "stdout",
     "output_type": "stream",
     "text": [
      "1\n"
     ]
    }
   ],
   "source": [
    "num = np.arange(21,31)\n",
    "print(num.ndim)"
   ]
  },
  {
   "cell_type": "code",
   "execution_count": 22,
   "id": "7dee66db",
   "metadata": {},
   "outputs": [
    {
     "name": "stdout",
     "output_type": "stream",
     "text": [
      "[21 22 23 24 25 26 27 28 29 30]\n"
     ]
    }
   ],
   "source": [
    "num = np.arange(21,31)\n",
    "print(num)"
   ]
  },
  {
   "cell_type": "code",
   "execution_count": 24,
   "id": "1d05a65b",
   "metadata": {},
   "outputs": [
    {
     "data": {
      "text/plain": [
       "25"
      ]
     },
     "execution_count": 24,
     "metadata": {},
     "output_type": "execute_result"
    }
   ],
   "source": [
    "# pull value\n",
    "num[4]"
   ]
  },
  {
   "cell_type": "markdown",
   "id": "e7235e81",
   "metadata": {},
   "source": [
    "# shape finds rows and columns"
   ]
  },
  {
   "cell_type": "code",
   "execution_count": 27,
   "id": "5ab98819",
   "metadata": {},
   "outputs": [
    {
     "name": "stdout",
     "output_type": "stream",
     "text": [
      "(5,)\n"
     ]
    }
   ],
   "source": [
    "n = np.arange(1,6)\n",
    "print(n.shape)"
   ]
  },
  {
   "cell_type": "code",
   "execution_count": 25,
   "id": "5cecb3d8",
   "metadata": {},
   "outputs": [
    {
     "name": "stdout",
     "output_type": "stream",
     "text": [
      "(10,)\n"
     ]
    }
   ],
   "source": [
    "print(num.shape)"
   ]
  },
  {
   "cell_type": "markdown",
   "id": "5d6ce85f",
   "metadata": {},
   "source": [
    "# Array in numpy"
   ]
  },
  {
   "cell_type": "code",
   "execution_count": 29,
   "id": "4db0b238",
   "metadata": {},
   "outputs": [
    {
     "name": "stdout",
     "output_type": "stream",
     "text": [
      "1\n"
     ]
    }
   ],
   "source": [
    "a = np.array([1,2,3,4])\n",
    "print(a.ndim)"
   ]
  },
  {
   "cell_type": "code",
   "execution_count": 32,
   "id": "465d22c7",
   "metadata": {},
   "outputs": [
    {
     "name": "stdout",
     "output_type": "stream",
     "text": [
      "2\n"
     ]
    }
   ],
   "source": [
    "a = np.array([[1,2,3,4]])\n",
    "print(a.ndim)"
   ]
  },
  {
   "cell_type": "code",
   "execution_count": 33,
   "id": "3364d74b",
   "metadata": {},
   "outputs": [
    {
     "name": "stdout",
     "output_type": "stream",
     "text": [
      "3\n"
     ]
    }
   ],
   "source": [
    "a = np.array([[[1,2,3,4]]])\n",
    "print(a.ndim)"
   ]
  },
  {
   "cell_type": "markdown",
   "id": "507d2f20",
   "metadata": {},
   "source": [
    "# 2 dimension"
   ]
  },
  {
   "cell_type": "code",
   "execution_count": 39,
   "id": "92f30809",
   "metadata": {},
   "outputs": [
    {
     "name": "stdout",
     "output_type": "stream",
     "text": [
      "2\n",
      "[[2 3 4 5]\n",
      " [5 6 7 8]]\n"
     ]
    }
   ],
   "source": [
    "a = np.array([[2,3,4,5],[5,6,7,8]])\n",
    "print(a.ndim)\n",
    "print(a)"
   ]
  },
  {
   "cell_type": "code",
   "execution_count": 21,
   "id": "313b41e1",
   "metadata": {},
   "outputs": [
    {
     "data": {
      "text/plain": [
       "array([['11', '12', '14'],\n",
       "       ['a', 'b', 'c'],\n",
       "       ['49.1', '44.2', '9.9']], dtype='<U32')"
      ]
     },
     "execution_count": 21,
     "metadata": {},
     "output_type": "execute_result"
    }
   ],
   "source": [
    "a=np.array([[11,12,14],['a','b','c'],[49.1,44.2,9.9]])\n",
    "a"
   ]
  },
  {
   "cell_type": "markdown",
   "id": "081264c8",
   "metadata": {},
   "source": [
    "# 3dimension"
   ]
  },
  {
   "cell_type": "code",
   "execution_count": 38,
   "id": "996ee985",
   "metadata": {
    "scrolled": false
   },
   "outputs": [
    {
     "name": "stdout",
     "output_type": "stream",
     "text": [
      "3\n",
      "[[[ 2  3  4  5]\n",
      "  [ 5  6  7  8]\n",
      "  [ 8 56  7 72]]]\n"
     ]
    }
   ],
   "source": [
    "a = np.array([[[2,3,4,5],[5,6,7,8],[8,56,7,72]]])\n",
    "print(a.ndim)\n",
    "print(a)"
   ]
  },
  {
   "cell_type": "code",
   "execution_count": 23,
   "id": "89f5ae6c",
   "metadata": {},
   "outputs": [
    {
     "data": {
      "text/plain": [
       "array([[['1', '2', '4'],\n",
       "        ['a', 'b', 'c'],\n",
       "        ['34.2', '43.1', '22.5']]], dtype='<U32')"
      ]
     },
     "execution_count": 23,
     "metadata": {},
     "output_type": "execute_result"
    }
   ],
   "source": [
    "# it converts number to string\n",
    "string = np.array([[[1,2,4],[\"a\",\"b\",\"c\"],[34.2,43.1,22.5]]])\n",
    "string"
   ]
  },
  {
   "cell_type": "markdown",
   "id": "676f30c9",
   "metadata": {},
   "source": [
    "# Array and dtype for save memory"
   ]
  },
  {
   "cell_type": "code",
   "execution_count": 41,
   "id": "54849de2",
   "metadata": {},
   "outputs": [
    {
     "name": "stdout",
     "output_type": "stream",
     "text": [
      "[1 2 3 5]\n"
     ]
    }
   ],
   "source": [
    "a = np.array([1,2,3,5], dtype = np.int64)\n",
    "print(a)"
   ]
  },
  {
   "cell_type": "code",
   "execution_count": 4,
   "id": "7362d33e",
   "metadata": {},
   "outputs": [
    {
     "name": "stdout",
     "output_type": "stream",
     "text": [
      "[[2 3 4 5]\n",
      " [5 6 7 8]]\n"
     ]
    }
   ],
   "source": [
    "a = np.array([[2,3,4,5],[5,6,7,8]],dtype = np.int64)\n",
    "print(a)"
   ]
  },
  {
   "cell_type": "code",
   "execution_count": 5,
   "id": "874d29e5",
   "metadata": {},
   "outputs": [
    {
     "data": {
      "text/plain": [
       "7"
      ]
     },
     "execution_count": 5,
     "metadata": {},
     "output_type": "execute_result"
    }
   ],
   "source": [
    "# pull out\n",
    "a[1][2]"
   ]
  },
  {
   "cell_type": "code",
   "execution_count": 9,
   "id": "355d8e74",
   "metadata": {},
   "outputs": [
    {
     "name": "stdout",
     "output_type": "stream",
     "text": [
      "2\n",
      "[[11. 12. 14.]\n",
      " [21. 22. 26.]\n",
      " [49. 44.  9.]]\n"
     ]
    }
   ],
   "source": [
    "a = np.array([[11,12,14],[21,22,26],[49,44,9]],dtype = np.float64)\n",
    "print(a.ndim)\n",
    "print(a)"
   ]
  },
  {
   "cell_type": "code",
   "execution_count": 10,
   "id": "d1f21207",
   "metadata": {},
   "outputs": [
    {
     "name": "stdout",
     "output_type": "stream",
     "text": [
      "26.0\n"
     ]
    }
   ],
   "source": [
    "# pull out 26\n",
    "print(a[1][2])"
   ]
  },
  {
   "cell_type": "markdown",
   "id": "50420ac8",
   "metadata": {},
   "source": [
    "# Size"
   ]
  },
  {
   "cell_type": "raw",
   "id": "9505078c",
   "metadata": {},
   "source": [
    "# size is used to find the number of values are there"
   ]
  },
  {
   "cell_type": "code",
   "execution_count": 6,
   "id": "b7452969",
   "metadata": {},
   "outputs": [
    {
     "name": "stdout",
     "output_type": "stream",
     "text": [
      "2\n",
      "(3, 3)\n",
      "9\n"
     ]
    }
   ],
   "source": [
    "a=np.array([[11,12,14],[21,22,26],[49,44,9]])\n",
    "print(a.ndim)\n",
    "print(a.shape)\n",
    "print(a.size)"
   ]
  },
  {
   "cell_type": "markdown",
   "id": "d299c8dc",
   "metadata": {},
   "source": [
    "# convert 1d to 2d"
   ]
  },
  {
   "cell_type": "code",
   "execution_count": 33,
   "id": "c94610a6",
   "metadata": {},
   "outputs": [
    {
     "data": {
      "text/plain": [
       "1"
      ]
     },
     "execution_count": 33,
     "metadata": {},
     "output_type": "execute_result"
    }
   ],
   "source": [
    "singledim = np.arange(1,61)\n",
    "singledim.ndim"
   ]
  },
  {
   "cell_type": "code",
   "execution_count": 35,
   "id": "45e143da",
   "metadata": {
    "scrolled": true
   },
   "outputs": [
    {
     "name": "stdout",
     "output_type": "stream",
     "text": [
      "2\n"
     ]
    },
    {
     "data": {
      "text/plain": [
       "array([[ 1,  2,  3,  4,  5,  6],\n",
       "       [ 7,  8,  9, 10, 11, 12],\n",
       "       [13, 14, 15, 16, 17, 18],\n",
       "       [19, 20, 21, 22, 23, 24],\n",
       "       [25, 26, 27, 28, 29, 30],\n",
       "       [31, 32, 33, 34, 35, 36],\n",
       "       [37, 38, 39, 40, 41, 42],\n",
       "       [43, 44, 45, 46, 47, 48],\n",
       "       [49, 50, 51, 52, 53, 54],\n",
       "       [55, 56, 57, 58, 59, 60]])"
      ]
     },
     "execution_count": 35,
     "metadata": {},
     "output_type": "execute_result"
    }
   ],
   "source": [
    "singledim = np.arange(1,61).reshape(10,6)\n",
    "print(singledim.ndim)\n",
    "singledim"
   ]
  },
  {
   "cell_type": "code",
   "execution_count": 37,
   "id": "1c66c57c",
   "metadata": {},
   "outputs": [
    {
     "data": {
      "text/plain": [
       "6"
      ]
     },
     "execution_count": 37,
     "metadata": {},
     "output_type": "execute_result"
    }
   ],
   "source": [
    "# pull out 6\n",
    "singledim[0][5]"
   ]
  },
  {
   "cell_type": "code",
   "execution_count": 43,
   "id": "d7080191",
   "metadata": {},
   "outputs": [
    {
     "data": {
      "text/plain": [
       "46"
      ]
     },
     "execution_count": 43,
     "metadata": {},
     "output_type": "execute_result"
    }
   ],
   "source": [
    "# pull out 46\n",
    "singledim[7][3]"
   ]
  },
  {
   "cell_type": "code",
   "execution_count": 44,
   "id": "c976df51",
   "metadata": {},
   "outputs": [
    {
     "data": {
      "text/plain": [
       "60"
      ]
     },
     "execution_count": 44,
     "metadata": {},
     "output_type": "execute_result"
    }
   ],
   "source": [
    "# pull out 60\n",
    "singledim[9][5]"
   ]
  },
  {
   "cell_type": "code",
   "execution_count": 7,
   "id": "a3fd6917",
   "metadata": {},
   "outputs": [
    {
     "name": "stdout",
     "output_type": "stream",
     "text": [
      "1\n"
     ]
    }
   ],
   "source": [
    "num = np.arange(41,121)\n",
    "print(num.ndim)"
   ]
  },
  {
   "cell_type": "code",
   "execution_count": 6,
   "id": "9db25cf3",
   "metadata": {},
   "outputs": [
    {
     "name": "stdout",
     "output_type": "stream",
     "text": [
      "2\n"
     ]
    },
    {
     "data": {
      "text/plain": [
       "array([[ 41,  42,  43,  44,  45,  46,  47,  48],\n",
       "       [ 49,  50,  51,  52,  53,  54,  55,  56],\n",
       "       [ 57,  58,  59,  60,  61,  62,  63,  64],\n",
       "       [ 65,  66,  67,  68,  69,  70,  71,  72],\n",
       "       [ 73,  74,  75,  76,  77,  78,  79,  80],\n",
       "       [ 81,  82,  83,  84,  85,  86,  87,  88],\n",
       "       [ 89,  90,  91,  92,  93,  94,  95,  96],\n",
       "       [ 97,  98,  99, 100, 101, 102, 103, 104],\n",
       "       [105, 106, 107, 108, 109, 110, 111, 112],\n",
       "       [113, 114, 115, 116, 117, 118, 119, 120]])"
      ]
     },
     "execution_count": 6,
     "metadata": {},
     "output_type": "execute_result"
    }
   ],
   "source": [
    "num = np.arange(41,121).reshape(10,8)\n",
    "print(num.ndim)\n",
    "num"
   ]
  },
  {
   "cell_type": "markdown",
   "id": "171c42aa",
   "metadata": {},
   "source": [
    "# convert 1d to 3d"
   ]
  },
  {
   "cell_type": "code",
   "execution_count": 46,
   "id": "d5b95d61",
   "metadata": {
    "scrolled": false
   },
   "outputs": [
    {
     "name": "stdout",
     "output_type": "stream",
     "text": [
      "3\n",
      "[[[ 1  2  3  4  5  6  7  8]\n",
      "  [ 9 10 11 12 13 14 15 16]]\n",
      "\n",
      " [[17 18 19 20 21 22 23 24]\n",
      "  [25 26 27 28 29 30 31 32]]\n",
      "\n",
      " [[33 34 35 36 37 38 39 40]\n",
      "  [41 42 43 44 45 46 47 48]]\n",
      "\n",
      " [[49 50 51 52 53 54 55 56]\n",
      "  [57 58 59 60 61 62 63 64]]\n",
      "\n",
      " [[65 66 67 68 69 70 71 72]\n",
      "  [73 74 75 76 77 78 79 80]]]\n"
     ]
    }
   ],
   "source": [
    "d = np.arange(1,81).reshape(5,2,8)\n",
    "print(d.ndim)\n",
    "print(d)"
   ]
  },
  {
   "cell_type": "code",
   "execution_count": 49,
   "id": "8f02e2be",
   "metadata": {},
   "outputs": [
    {
     "data": {
      "text/plain": [
       "30"
      ]
     },
     "execution_count": 49,
     "metadata": {},
     "output_type": "execute_result"
    }
   ],
   "source": [
    "# pull out 30\n",
    "d[1][1][5]"
   ]
  },
  {
   "cell_type": "code",
   "execution_count": 50,
   "id": "fcc45b44",
   "metadata": {},
   "outputs": [
    {
     "data": {
      "text/plain": [
       "69"
      ]
     },
     "execution_count": 50,
     "metadata": {},
     "output_type": "execute_result"
    }
   ],
   "source": [
    "# pull out 69\n",
    "d[4][0][4]"
   ]
  },
  {
   "cell_type": "code",
   "execution_count": 8,
   "id": "3bfa546c",
   "metadata": {},
   "outputs": [
    {
     "name": "stdout",
     "output_type": "stream",
     "text": [
      "1\n"
     ]
    }
   ],
   "source": [
    "num = np.arange(41,121)\n",
    "print(num.ndim)"
   ]
  },
  {
   "cell_type": "code",
   "execution_count": 10,
   "id": "1396d92a",
   "metadata": {},
   "outputs": [
    {
     "name": "stdout",
     "output_type": "stream",
     "text": [
      "3\n"
     ]
    },
    {
     "data": {
      "text/plain": [
       "array([[[ 41,  42,  43,  44,  45,  46,  47,  48],\n",
       "        [ 49,  50,  51,  52,  53,  54,  55,  56]],\n",
       "\n",
       "       [[ 57,  58,  59,  60,  61,  62,  63,  64],\n",
       "        [ 65,  66,  67,  68,  69,  70,  71,  72]],\n",
       "\n",
       "       [[ 73,  74,  75,  76,  77,  78,  79,  80],\n",
       "        [ 81,  82,  83,  84,  85,  86,  87,  88]],\n",
       "\n",
       "       [[ 89,  90,  91,  92,  93,  94,  95,  96],\n",
       "        [ 97,  98,  99, 100, 101, 102, 103, 104]],\n",
       "\n",
       "       [[105, 106, 107, 108, 109, 110, 111, 112],\n",
       "        [113, 114, 115, 116, 117, 118, 119, 120]]])"
      ]
     },
     "execution_count": 10,
     "metadata": {},
     "output_type": "execute_result"
    }
   ],
   "source": [
    "num = np.arange(41,121).reshape(5,2,8)\n",
    "print(num.ndim)\n",
    "num"
   ]
  },
  {
   "cell_type": "code",
   "execution_count": 11,
   "id": "dc340e4e",
   "metadata": {},
   "outputs": [
    {
     "data": {
      "text/plain": [
       "77"
      ]
     },
     "execution_count": 11,
     "metadata": {},
     "output_type": "execute_result"
    }
   ],
   "source": [
    "# pull out 77\n",
    "num[2][0][4]"
   ]
  },
  {
   "cell_type": "markdown",
   "id": "99e99372",
   "metadata": {},
   "source": [
    "# DEEP LEARNING"
   ]
  },
  {
   "cell_type": "markdown",
   "id": "468f6b32",
   "metadata": {},
   "source": [
    "# Linspace"
   ]
  },
  {
   "cell_type": "code",
   "execution_count": 51,
   "id": "de273ffc",
   "metadata": {},
   "outputs": [
    {
     "data": {
      "text/plain": [
       "array([11.  , 13.25, 15.5 , 17.75, 20.  ])"
      ]
     },
     "execution_count": 51,
     "metadata": {},
     "output_type": "execute_result"
    }
   ],
   "source": [
    "a = np.linspace(11,20,5)\n",
    "a"
   ]
  },
  {
   "cell_type": "code",
   "execution_count": 52,
   "id": "d5e77e86",
   "metadata": {
    "scrolled": true
   },
   "outputs": [
    {
     "data": {
      "text/plain": [
       "array([11. , 12.8, 14.6, 16.4, 18.2, 20. ])"
      ]
     },
     "execution_count": 52,
     "metadata": {},
     "output_type": "execute_result"
    }
   ],
   "source": [
    "a = np.linspace(11,20,6)\n",
    "a"
   ]
  },
  {
   "cell_type": "code",
   "execution_count": 58,
   "id": "74882090",
   "metadata": {},
   "outputs": [
    {
     "data": {
      "text/plain": [
       "array([ 0.        ,  0.20408163,  0.40816327,  0.6122449 ,  0.81632653,\n",
       "        1.02040816,  1.2244898 ,  1.42857143,  1.63265306,  1.83673469,\n",
       "        2.04081633,  2.24489796,  2.44897959,  2.65306122,  2.85714286,\n",
       "        3.06122449,  3.26530612,  3.46938776,  3.67346939,  3.87755102,\n",
       "        4.08163265,  4.28571429,  4.48979592,  4.69387755,  4.89795918,\n",
       "        5.10204082,  5.30612245,  5.51020408,  5.71428571,  5.91836735,\n",
       "        6.12244898,  6.32653061,  6.53061224,  6.73469388,  6.93877551,\n",
       "        7.14285714,  7.34693878,  7.55102041,  7.75510204,  7.95918367,\n",
       "        8.16326531,  8.36734694,  8.57142857,  8.7755102 ,  8.97959184,\n",
       "        9.18367347,  9.3877551 ,  9.59183673,  9.79591837, 10.        ])"
      ]
     },
     "execution_count": 58,
     "metadata": {},
     "output_type": "execute_result"
    }
   ],
   "source": [
    "n = np.linspace(0,10)\n",
    "n"
   ]
  },
  {
   "cell_type": "code",
   "execution_count": 61,
   "id": "cda70941",
   "metadata": {
    "scrolled": true
   },
   "outputs": [
    {
     "data": {
      "text/plain": [
       "array([ 0.        ,  3.33333333,  6.66666667, 10.        ])"
      ]
     },
     "execution_count": 61,
     "metadata": {},
     "output_type": "execute_result"
    }
   ],
   "source": [
    "n = np.linspace(0,10,4)\n",
    "n"
   ]
  },
  {
   "cell_type": "markdown",
   "id": "39d67c78",
   "metadata": {},
   "source": [
    "# Zero - black image"
   ]
  },
  {
   "cell_type": "code",
   "execution_count": 53,
   "id": "666e471b",
   "metadata": {
    "scrolled": true
   },
   "outputs": [
    {
     "data": {
      "text/plain": [
       "array([[0., 0., 0.],\n",
       "       [0., 0., 0.],\n",
       "       [0., 0., 0.]])"
      ]
     },
     "execution_count": 53,
     "metadata": {},
     "output_type": "execute_result"
    }
   ],
   "source": [
    "a = np.zeros((3,3)) # randomly t comes in float value\n",
    "a"
   ]
  },
  {
   "cell_type": "code",
   "execution_count": 54,
   "id": "517cb630",
   "metadata": {},
   "outputs": [
    {
     "data": {
      "text/plain": [
       "array([[0, 0, 0],\n",
       "       [0, 0, 0],\n",
       "       [0, 0, 0]], dtype=int64)"
      ]
     },
     "execution_count": 54,
     "metadata": {},
     "output_type": "execute_result"
    }
   ],
   "source": [
    "a = np.zeros((3,3),dtype = np.int64)\n",
    "a"
   ]
  },
  {
   "cell_type": "markdown",
   "id": "d44ca86b",
   "metadata": {},
   "source": [
    "# eg of black board with zeros"
   ]
  },
  {
   "cell_type": "code",
   "execution_count": 12,
   "id": "de889688",
   "metadata": {},
   "outputs": [
    {
     "data": {
      "text/plain": [
       "<matplotlib.image.AxesImage at 0x17459f2add0>"
      ]
     },
     "execution_count": 12,
     "metadata": {},
     "output_type": "execute_result"
    },
    {
     "data": {
      "image/png": "[encoded data removed]",
      "text/plain": [
       "<Figure size 640x480 with 1 Axes>"
      ]
     },
     "metadata": {},
     "output_type": "display_data"
    }
   ],
   "source": [
    "import matplotlib.pyplot as plt \n",
    "img = np.zeros([512,512,3] , dtype = np.float64)\n",
    "plt.imshow(img)"
   ]
  },
  {
   "cell_type": "markdown",
   "id": "5488c488",
   "metadata": {},
   "source": [
    "# Ones - white image"
   ]
  },
  {
   "cell_type": "code",
   "execution_count": 63,
   "id": "ce504ca5",
   "metadata": {},
   "outputs": [
    {
     "data": {
      "text/plain": [
       "array([[1., 1., 1.],\n",
       "       [1., 1., 1.],\n",
       "       [1., 1., 1.]])"
      ]
     },
     "execution_count": 63,
     "metadata": {},
     "output_type": "execute_result"
    }
   ],
   "source": [
    "a = np.ones((3,3))  # randomly t comes in float value\n",
    "a"
   ]
  },
  {
   "cell_type": "code",
   "execution_count": 65,
   "id": "fb97dc5e",
   "metadata": {},
   "outputs": [
    {
     "data": {
      "text/plain": [
       "array([[1, 1, 1],\n",
       "       [1, 1, 1],\n",
       "       [1, 1, 1]], dtype=int64)"
      ]
     },
     "execution_count": 65,
     "metadata": {},
     "output_type": "execute_result"
    }
   ],
   "source": [
    "a = np.ones((3,3),dtype = np.int64)  # randomly t comes in float value\n",
    "a"
   ]
  },
  {
   "cell_type": "markdown",
   "id": "c70669c8",
   "metadata": {},
   "source": [
    "# Random Concepts"
   ]
  },
  {
   "cell_type": "markdown",
   "id": "f7f73618",
   "metadata": {},
   "source": [
    "import numpy as np"
   ]
  },
  {
   "cell_type": "code",
   "execution_count": 67,
   "id": "55fcfed8",
   "metadata": {},
   "outputs": [
    {
     "data": {
      "text/plain": [
       "17"
      ]
     },
     "execution_count": 67,
     "metadata": {},
     "output_type": "execute_result"
    }
   ],
   "source": [
    "np.random.randint(10,20)"
   ]
  },
  {
   "cell_type": "markdown",
   "id": "03edb641",
   "metadata": {},
   "source": [
    "# standard value in random"
   ]
  },
  {
   "cell_type": "code",
   "execution_count": 69,
   "id": "a795b8f7",
   "metadata": {},
   "outputs": [
    {
     "data": {
      "text/plain": [
       "15"
      ]
     },
     "execution_count": 69,
     "metadata": {},
     "output_type": "execute_result"
    }
   ],
   "source": [
    "np.random.seed(30) # seed gives standard value\n",
    "np.random.randint(10,20)"
   ]
  },
  {
   "cell_type": "markdown",
   "id": "f25962dc",
   "metadata": {},
   "source": [
    "# np gives random value in given range"
   ]
  },
  {
   "cell_type": "code",
   "execution_count": 70,
   "id": "c7d6ae0a",
   "metadata": {},
   "outputs": [
    {
     "data": {
      "text/plain": [
       "array([[0.91697798, 0.2182569 , 0.40931252],\n",
       "       [0.64306185, 0.7064144 , 0.60007082],\n",
       "       [0.92739354, 0.69665095, 0.02359883]])"
      ]
     },
     "execution_count": 70,
     "metadata": {},
     "output_type": "execute_result"
    }
   ],
   "source": [
    "np.random.rand(3,3) # integr value\n",
    "# randomly gives 3 rows and 3 columns"
   ]
  },
  {
   "cell_type": "code",
   "execution_count": 73,
   "id": "f6bdbcda",
   "metadata": {},
   "outputs": [
    {
     "data": {
      "text/plain": [
       "array([[0.12664092, 0.20437514, 0.86758621, 0.40250847, 0.03097973,\n",
       "        0.32459273, 0.6234162 , 0.18528499],\n",
       "       [0.44763427, 0.28569487, 0.70725566, 0.62991372, 0.47922155,\n",
       "        0.81426954, 0.11855179, 0.51662939],\n",
       "       [0.31712069, 0.6800152 , 0.02595049, 0.87092051, 0.54739667,\n",
       "        0.90942388, 0.58272269, 0.06931465],\n",
       "       [0.15904753, 0.69852975, 0.26405636, 0.93772314, 0.00612981,\n",
       "        0.65584557, 0.84982297, 0.9682767 ]])"
      ]
     },
     "execution_count": 73,
     "metadata": {},
     "output_type": "execute_result"
    }
   ],
   "source": [
    "np.random.rand(4,8)\n",
    "# randomly gives 4 rows and 8 columns"
   ]
  },
  {
   "cell_type": "code",
   "execution_count": 72,
   "id": "5aa37b46",
   "metadata": {},
   "outputs": [
    {
     "data": {
      "text/plain": [
       "array([[-1.68377675, -1.05190697,  0.77506788,  0.78881805, -0.60779801,\n",
       "        -0.26070022,  2.31932706,  0.33111433, -0.71292321, -0.30612576],\n",
       "       [-1.2928097 ,  0.80054355, -2.44518989, -1.12262371,  2.06817845,\n",
       "         0.23505622, -1.10680405, -1.19475441, -0.23693295,  1.01318931],\n",
       "       [ 0.59260412, -1.28855051, -0.02456102, -0.21425993,  0.32739727,\n",
       "         1.00284229,  1.15668627, -0.91477358, -0.17481523, -0.24715293],\n",
       "       [ 0.06035358, -0.27501534, -0.13813605,  0.03013918,  0.27876559,\n",
       "        -0.97234876, -1.44265183,  2.0752844 , -0.83865402, -0.55768382]])"
      ]
     },
     "execution_count": 72,
     "metadata": {},
     "output_type": "execute_result"
    }
   ],
   "source": [
    "np.random.randn(4,10) # randomly  gives negative values"
   ]
  },
  {
   "cell_type": "markdown",
   "id": "0243a9fe",
   "metadata": {},
   "source": [
    "# random random values"
   ]
  },
  {
   "cell_type": "code",
   "execution_count": 77,
   "id": "13817b03",
   "metadata": {},
   "outputs": [
    {
     "data": {
      "text/plain": [
       "array([[0.09724668, 0.79318418, 0.63047359, 0.51239983, 0.82901908],\n",
       "       [0.24474535, 0.86700457, 0.09379959, 0.10926941, 0.00791811],\n",
       "       [0.14703805, 0.32188369, 0.11049259, 0.62933888, 0.42125732]])"
      ]
     },
     "execution_count": 77,
     "metadata": {},
     "output_type": "execute_result"
    }
   ],
   "source": [
    "np.random.random((3,5))"
   ]
  },
  {
   "cell_type": "markdown",
   "id": "74ba0f9e",
   "metadata": {},
   "source": [
    "# Math operation in numpy"
   ]
  },
  {
   "cell_type": "code",
   "execution_count": 11,
   "id": "5876e2b3",
   "metadata": {},
   "outputs": [
    {
     "data": {
      "text/plain": [
       "8.0"
      ]
     },
     "execution_count": 11,
     "metadata": {},
     "output_type": "execute_result"
    }
   ],
   "source": [
    "np.sqrt(64)"
   ]
  },
  {
   "cell_type": "code",
   "execution_count": 12,
   "id": "73d2d2b8",
   "metadata": {},
   "outputs": [
    {
     "data": {
      "text/plain": [
       "array([1.41421356, 2.        , 2.44948974])"
      ]
     },
     "execution_count": 12,
     "metadata": {},
     "output_type": "execute_result"
    }
   ],
   "source": [
    "np.sqrt([2,4,6])"
   ]
  },
  {
   "cell_type": "code",
   "execution_count": 13,
   "id": "f138c984",
   "metadata": {},
   "outputs": [
    {
     "data": {
      "text/plain": [
       "30"
      ]
     },
     "execution_count": 13,
     "metadata": {},
     "output_type": "execute_result"
    }
   ],
   "source": [
    "ab = [2,4,6,8,10]\n",
    "np.sum(ab)"
   ]
  },
  {
   "cell_type": "code",
   "execution_count": 14,
   "id": "ec485daa",
   "metadata": {},
   "outputs": [
    {
     "data": {
      "text/plain": [
       "2"
      ]
     },
     "execution_count": 14,
     "metadata": {},
     "output_type": "execute_result"
    }
   ],
   "source": [
    "np.min(ab)"
   ]
  },
  {
   "cell_type": "code",
   "execution_count": 15,
   "id": "0efbce86",
   "metadata": {},
   "outputs": [
    {
     "data": {
      "text/plain": [
       "10"
      ]
     },
     "execution_count": 15,
     "metadata": {},
     "output_type": "execute_result"
    }
   ],
   "source": [
    "np.max(ab)"
   ]
  },
  {
   "cell_type": "code",
   "execution_count": 65,
   "id": "2e28e2f7",
   "metadata": {},
   "outputs": [
    {
     "name": "stdout",
     "output_type": "stream",
     "text": [
      "[[  2   4   6   8]\n",
      " [ 20  40  60  80]\n",
      " [180 200 220 240]]\n"
     ]
    }
   ],
   "source": [
    "x = np.array(([[1,2,3,4] , [10,20,30,40] , [90,100,110,120]]))\n",
    "y = np.array(([[1,2,3,4] , [10,20,30,40] , [90,100,110,120]]))\n",
    "\n",
    "print(x+y)"
   ]
  },
  {
   "cell_type": "code",
   "execution_count": 66,
   "id": "8345ab35",
   "metadata": {},
   "outputs": [
    {
     "data": {
      "text/plain": [
       "array([[  2,   4,   6,   8],\n",
       "       [ 20,  40,  60,  80],\n",
       "       [180, 200, 220, 240]])"
      ]
     },
     "execution_count": 66,
     "metadata": {},
     "output_type": "execute_result"
    }
   ],
   "source": [
    "c=np.add(x,y)\n",
    "c"
   ]
  },
  {
   "cell_type": "code",
   "execution_count": 62,
   "id": "c6a8f065",
   "metadata": {},
   "outputs": [
    {
     "name": "stdout",
     "output_type": "stream",
     "text": [
      "[ 1  2  3  4  5  6  7  8  9 10]\n"
     ]
    }
   ],
   "source": [
    "a=np.arange(1,11)\n",
    "\n",
    "print(a)"
   ]
  },
  {
   "cell_type": "code",
   "execution_count": 64,
   "id": "1dbab84f",
   "metadata": {},
   "outputs": [
    {
     "name": "stdout",
     "output_type": "stream",
     "text": [
      "[ 1  2  3  4  5 60 60 60 60 60]\n"
     ]
    }
   ],
   "source": [
    "a[5:]=60\n",
    "print(a)"
   ]
  },
  {
   "cell_type": "markdown",
   "id": "f0f01213",
   "metadata": {},
   "source": [
    "# Vertical stack-yaxis"
   ]
  },
  {
   "cell_type": "code",
   "execution_count": 26,
   "id": "48c18820",
   "metadata": {},
   "outputs": [],
   "source": [
    "import numpy as np"
   ]
  },
  {
   "cell_type": "code",
   "execution_count": 33,
   "id": "67ab620e",
   "metadata": {},
   "outputs": [
    {
     "name": "stdout",
     "output_type": "stream",
     "text": [
      "[[ 1  2]\n",
      " [ 3  4]\n",
      " [ 5  6]\n",
      " [ 7  8]\n",
      " [ 9 10]]\n"
     ]
    }
   ],
   "source": [
    "b=np.arange(1,11).reshape(5,2)\n",
    "print(b)"
   ]
  },
  {
   "cell_type": "code",
   "execution_count": 40,
   "id": "71034206",
   "metadata": {},
   "outputs": [
    {
     "name": "stdout",
     "output_type": "stream",
     "text": [
      "[[11 12]\n",
      " [13 14]\n",
      " [15 16]\n",
      " [17 18]\n",
      " [19 20]]\n"
     ]
    }
   ],
   "source": [
    "c=np.arange(11,21).reshape(5,2)\n",
    "print(c)"
   ]
  },
  {
   "cell_type": "code",
   "execution_count": 41,
   "id": "042eb36c",
   "metadata": {},
   "outputs": [
    {
     "data": {
      "text/plain": [
       "array([[ 1,  2],\n",
       "       [ 3,  4],\n",
       "       [ 5,  6],\n",
       "       [ 7,  8],\n",
       "       [ 9, 10],\n",
       "       [11, 12],\n",
       "       [13, 14],\n",
       "       [15, 16],\n",
       "       [17, 18],\n",
       "       [19, 20]])"
      ]
     },
     "execution_count": 41,
     "metadata": {},
     "output_type": "execute_result"
    }
   ],
   "source": [
    "vertical = np.vstack((b,c))\n",
    "vertical"
   ]
  },
  {
   "cell_type": "markdown",
   "id": "3b85d371",
   "metadata": {},
   "source": [
    "# horizontal - xasis"
   ]
  },
  {
   "cell_type": "code",
   "execution_count": 42,
   "id": "9537353c",
   "metadata": {},
   "outputs": [
    {
     "data": {
      "text/plain": [
       "array([[ 1,  2, 11, 12],\n",
       "       [ 3,  4, 13, 14],\n",
       "       [ 5,  6, 15, 16],\n",
       "       [ 7,  8, 17, 18],\n",
       "       [ 9, 10, 19, 20]])"
      ]
     },
     "execution_count": 42,
     "metadata": {},
     "output_type": "execute_result"
    }
   ],
   "source": [
    "h = np.hstack((b,c))\n",
    "h"
   ]
  },
  {
   "cell_type": "markdown",
   "id": "067f5494",
   "metadata": {},
   "source": [
    "# diagonal series"
   ]
  },
  {
   "cell_type": "code",
   "execution_count": 13,
   "id": "47a35f59",
   "metadata": {},
   "outputs": [
    {
     "name": "stdout",
     "output_type": "stream",
     "text": [
      "[[3 0 0]\n",
      " [0 4 0]\n",
      " [0 0 3]]\n"
     ]
    }
   ],
   "source": [
    "a = np.diag([3,4,3])\n",
    "print(a)"
   ]
  },
  {
   "cell_type": "markdown",
   "id": "1b2dce74",
   "metadata": {},
   "source": [
    "# Ravel"
   ]
  },
  {
   "cell_type": "raw",
   "id": "1d0265cc",
   "metadata": {},
   "source": [
    "it is used to convert 2d to 1d array"
   ]
  },
  {
   "cell_type": "markdown",
   "id": "e12c2286",
   "metadata": {},
   "source": [
    "# convert 2d to 1d array"
   ]
  },
  {
   "cell_type": "code",
   "execution_count": 27,
   "id": "79958d41",
   "metadata": {},
   "outputs": [
    {
     "name": "stdout",
     "output_type": "stream",
     "text": [
      "[[1 2 4 5]\n",
      " [6 4 8 9]]\n"
     ]
    }
   ],
   "source": [
    "aa = np.array([[1,2,4,5],[6,4,8,9]])\n",
    "print(aa)"
   ]
  },
  {
   "cell_type": "code",
   "execution_count": 28,
   "id": "b3f40c3e",
   "metadata": {},
   "outputs": [
    {
     "data": {
      "text/plain": [
       "array([1, 2, 4, 5, 6, 4, 8, 9])"
      ]
     },
     "execution_count": 28,
     "metadata": {},
     "output_type": "execute_result"
    }
   ],
   "source": [
    "c = aa.ravel()\n",
    "c"
   ]
  },
  {
   "cell_type": "code",
   "execution_count": 16,
   "id": "c74df17f",
   "metadata": {
    "scrolled": true
   },
   "outputs": [
    {
     "data": {
      "text/plain": [
       "array([1, 2, 4, 5, 6, 4, 8, 9])"
      ]
     },
     "execution_count": 16,
     "metadata": {},
     "output_type": "execute_result"
    }
   ],
   "source": [
    "ab = np.ravel((aa))\n",
    "ab"
   ]
  },
  {
   "cell_type": "code",
   "execution_count": 19,
   "id": "e321edb4",
   "metadata": {},
   "outputs": [
    {
     "name": "stdout",
     "output_type": "stream",
     "text": [
      "[[ 1  2  3  4]\n",
      " [ 5  6  7  8]\n",
      " [ 9 10 11 12]\n",
      " [13 14 15 16]\n",
      " [17 18 19 20]]\n"
     ]
    }
   ],
   "source": [
    "ac = np.arange(1,21).reshape(5,4)\n",
    "print(ac)"
   ]
  },
  {
   "cell_type": "code",
   "execution_count": 22,
   "id": "1acf5fd9",
   "metadata": {},
   "outputs": [
    {
     "name": "stdout",
     "output_type": "stream",
     "text": [
      "1\n"
     ]
    },
    {
     "data": {
      "text/plain": [
       "array([ 1,  2,  3,  4,  5,  6,  7,  8,  9, 10, 11, 12, 13, 14, 15, 16, 17,\n",
       "       18, 19, 20])"
      ]
     },
     "execution_count": 22,
     "metadata": {},
     "output_type": "execute_result"
    }
   ],
   "source": [
    "bc = np.ravel((ac))\n",
    "print(bc.ndim)\n",
    "bc"
   ]
  },
  {
   "cell_type": "markdown",
   "id": "d75897b4",
   "metadata": {},
   "source": [
    "# convert 3d to 1d array"
   ]
  },
  {
   "cell_type": "code",
   "execution_count": 30,
   "id": "9e68d1f6",
   "metadata": {},
   "outputs": [
    {
     "name": "stdout",
     "output_type": "stream",
     "text": [
      "[[[ 1  2  3  4  5  6]\n",
      "  [ 7  8  9 10 11 12]]\n",
      "\n",
      " [[13 14 15 16 17 18]\n",
      "  [19 20 21 22 23 24]]\n",
      "\n",
      " [[25 26 27 28 29 30]\n",
      "  [31 32 33 34 35 36]]\n",
      "\n",
      " [[37 38 39 40 41 42]\n",
      "  [43 44 45 46 47 48]]\n",
      "\n",
      " [[49 50 51 52 53 54]\n",
      "  [55 56 57 58 59 60]]]\n"
     ]
    }
   ],
   "source": [
    "d = np.arange(1,61).reshape(5,2,6)\n",
    "print(d)"
   ]
  },
  {
   "cell_type": "code",
   "execution_count": 25,
   "id": "84c5281b",
   "metadata": {},
   "outputs": [
    {
     "data": {
      "text/plain": [
       "array([ 1,  2,  3,  4,  5,  6,  7,  8,  9, 10, 11, 12, 13, 14, 15, 16, 17,\n",
       "       18, 19, 20, 21, 22, 23, 24, 25, 26, 27, 28, 29, 30, 31, 32, 33, 34,\n",
       "       35, 36, 37, 38, 39, 40, 41, 42, 43, 44, 45, 46, 47, 48, 49, 50, 51,\n",
       "       52, 53, 54, 55, 56, 57, 58, 59, 60])"
      ]
     },
     "execution_count": 25,
     "metadata": {},
     "output_type": "execute_result"
    }
   ],
   "source": [
    "cd = np.ravel((d))\n",
    "cd"
   ]
  },
  {
   "cell_type": "code",
   "execution_count": 32,
   "id": "696de07d",
   "metadata": {},
   "outputs": [
    {
     "name": "stdout",
     "output_type": "stream",
     "text": [
      "[ 1  2  3  4  5  6  7  8  9 10 11 12 13 14 15 16 17 18 19 20 21 22 23 24\n",
      " 25 26 27 28 29 30 31 32 33 34 35 36 37 38 39 40 41 42 43 44 45 46 47 48\n",
      " 49 50 51 52 53 54 55 56 57 58 59 60]\n"
     ]
    }
   ],
   "source": [
    "r = d.ravel()\n",
    "print(r)"
   ]
  },
  {
   "cell_type": "markdown",
   "id": "7b4cde1f",
   "metadata": {},
   "source": [
    "# Absolute"
   ]
  },
  {
   "cell_type": "raw",
   "id": "88155eac",
   "metadata": {},
   "source": [
    " negative value turns to positive value"
   ]
  },
  {
   "cell_type": "code",
   "execution_count": 33,
   "id": "8663faa6",
   "metadata": {},
   "outputs": [
    {
     "data": {
      "text/plain": [
       "100"
      ]
     },
     "execution_count": 33,
     "metadata": {},
     "output_type": "execute_result"
    }
   ],
   "source": [
    "np.abs(-100)"
   ]
  },
  {
   "cell_type": "code",
   "execution_count": 34,
   "id": "5895fd55",
   "metadata": {},
   "outputs": [
    {
     "data": {
      "text/plain": [
       "9"
      ]
     },
     "execution_count": 34,
     "metadata": {},
     "output_type": "execute_result"
    }
   ],
   "source": [
    "np.abs(-9)"
   ]
  },
  {
   "cell_type": "markdown",
   "id": "b09e8afd",
   "metadata": {},
   "source": [
    "# Transpose"
   ]
  },
  {
   "cell_type": "code",
   "execution_count": 36,
   "id": "9614c742",
   "metadata": {},
   "outputs": [
    {
     "name": "stdout",
     "output_type": "stream",
     "text": [
      "[[1 2 3 4]\n",
      " [6 7 8 9]]\n"
     ]
    }
   ],
   "source": [
    "d = np.array([[1,2,3,4],[6,7,8,9]])\n",
    "print(d)"
   ]
  },
  {
   "cell_type": "code",
   "execution_count": 38,
   "id": "60040806",
   "metadata": {},
   "outputs": [
    {
     "data": {
      "text/plain": [
       "array([[1, 6],\n",
       "       [2, 7],\n",
       "       [3, 8],\n",
       "       [4, 9]])"
      ]
     },
     "execution_count": 38,
     "metadata": {},
     "output_type": "execute_result"
    }
   ],
   "source": [
    "d.T"
   ]
  },
  {
   "cell_type": "code",
   "execution_count": 45,
   "id": "5b37c447",
   "metadata": {},
   "outputs": [
    {
     "name": "stdout",
     "output_type": "stream",
     "text": [
      "[[ 1  2]\n",
      " [ 3  4]\n",
      " [ 5  6]\n",
      " [ 7  8]\n",
      " [ 9 10]\n",
      " [11 12]\n",
      " [13 14]\n",
      " [15 16]\n",
      " [17 18]\n",
      " [19 20]]\n"
     ]
    }
   ],
   "source": [
    "d_3 = np.arange(1,21).reshape(10,2)\n",
    "print(d_3)"
   ]
  },
  {
   "cell_type": "code",
   "execution_count": 46,
   "id": "6e92f0b3",
   "metadata": {},
   "outputs": [
    {
     "data": {
      "text/plain": [
       "array([[ 1,  3,  5,  7,  9, 11, 13, 15, 17, 19],\n",
       "       [ 2,  4,  6,  8, 10, 12, 14, 16, 18, 20]])"
      ]
     },
     "execution_count": 46,
     "metadata": {},
     "output_type": "execute_result"
    }
   ],
   "source": [
    "d_3.T"
   ]
  },
  {
   "cell_type": "code",
   "execution_count": 74,
   "id": "4f55d388",
   "metadata": {},
   "outputs": [
    {
     "data": {
      "text/plain": [
       "array([[11, 12, 13],\n",
       "       [21, 22, 23]])"
      ]
     },
     "execution_count": 74,
     "metadata": {},
     "output_type": "execute_result"
    }
   ],
   "source": [
    "ex1 = np.array([[11,12,13],[21,22,23]])\n",
    "ex1"
   ]
  },
  {
   "cell_type": "code",
   "execution_count": 75,
   "id": "265265a3",
   "metadata": {},
   "outputs": [
    {
     "data": {
      "text/plain": [
       "array([[11, 21],\n",
       "       [12, 22],\n",
       "       [13, 23]])"
      ]
     },
     "execution_count": 75,
     "metadata": {},
     "output_type": "execute_result"
    }
   ],
   "source": [
    "ex1.T"
   ]
  },
  {
   "cell_type": "markdown",
   "id": "2775607a",
   "metadata": {},
   "source": [
    "# Concatenate"
   ]
  },
  {
   "cell_type": "code",
   "execution_count": 39,
   "id": "cb724ce3",
   "metadata": {},
   "outputs": [
    {
     "name": "stdout",
     "output_type": "stream",
     "text": [
      "[[ 11  12  13  14]\n",
      " [ 22  33  44  55]\n",
      " [101 102 103 104]\n",
      " [110 111 112 113]]\n"
     ]
    }
   ],
   "source": [
    "a1 = np.array([[11,12,13,14],[22,33,44,55]])\n",
    "b1 = np.array([[101,102,103,104],[110,111,112,113]])\n",
    "c1 = np.concatenate([a1,b1])\n",
    "print(c1)"
   ]
  },
  {
   "cell_type": "markdown",
   "id": "88ef71f7",
   "metadata": {},
   "source": [
    "# identity matrix"
   ]
  },
  {
   "cell_type": "code",
   "execution_count": 50,
   "id": "78cd78a2",
   "metadata": {},
   "outputs": [
    {
     "data": {
      "text/plain": [
       "array([[1., 0., 0.],\n",
       "       [0., 1., 0.],\n",
       "       [0., 0., 1.]])"
      ]
     },
     "execution_count": 50,
     "metadata": {},
     "output_type": "execute_result"
    }
   ],
   "source": [
    "ab = np.eye(3,3)\n",
    "ab"
   ]
  },
  {
   "cell_type": "code",
   "execution_count": 54,
   "id": "968da7fa",
   "metadata": {},
   "outputs": [
    {
     "data": {
      "text/plain": [
       "array([[1, 0, 0],\n",
       "       [0, 1, 0],\n",
       "       [0, 0, 1]], dtype=int64)"
      ]
     },
     "execution_count": 54,
     "metadata": {},
     "output_type": "execute_result"
    }
   ],
   "source": [
    "ab = np.eye(3,3,dtype = np.int64)\n",
    "ab"
   ]
  },
  {
   "cell_type": "markdown",
   "id": "a97aebf7",
   "metadata": {},
   "source": [
    "# how to check the version"
   ]
  },
  {
   "cell_type": "code",
   "execution_count": 55,
   "id": "66814ec3",
   "metadata": {},
   "outputs": [
    {
     "name": "stdout",
     "output_type": "stream",
     "text": [
      "1.23.5\n"
     ]
    }
   ],
   "source": [
    "print(np.__version__)"
   ]
  },
  {
   "cell_type": "markdown",
   "id": "bb0a43ca",
   "metadata": {},
   "source": [
    "# Full"
   ]
  },
  {
   "cell_type": "raw",
   "id": "4c929aac",
   "metadata": {},
   "source": [
    "this method is to fill the value"
   ]
  },
  {
   "cell_type": "code",
   "execution_count": 56,
   "id": "ef01681e",
   "metadata": {},
   "outputs": [
    {
     "data": {
      "text/plain": [
       "array([[6, 6, 6, 6],\n",
       "       [6, 6, 6, 6],\n",
       "       [6, 6, 6, 6],\n",
       "       [6, 6, 6, 6]], dtype=int64)"
      ]
     },
     "execution_count": 56,
     "metadata": {},
     "output_type": "execute_result"
    }
   ],
   "source": [
    "h = np.full((4,4),6,dtype = np.int64)\n",
    "h"
   ]
  },
  {
   "cell_type": "markdown",
   "id": "4e2f8894",
   "metadata": {},
   "source": [
    "# replace value"
   ]
  },
  {
   "cell_type": "code",
   "execution_count": 59,
   "id": "73a8a1d0",
   "metadata": {},
   "outputs": [],
   "source": [
    "h[3][1]=5\n"
   ]
  },
  {
   "cell_type": "code",
   "execution_count": 60,
   "id": "321d4963",
   "metadata": {},
   "outputs": [
    {
     "name": "stdout",
     "output_type": "stream",
     "text": [
      "[[6 6 6 6]\n",
      " [6 6 6 6]\n",
      " [6 6 6 6]\n",
      " [6 5 6 6]]\n"
     ]
    }
   ],
   "source": [
    "print(h)"
   ]
  },
  {
   "cell_type": "markdown",
   "id": "9c7d3c70",
   "metadata": {},
   "source": [
    "# axis Concept"
   ]
  },
  {
   "cell_type": "code",
   "execution_count": 67,
   "id": "96902245",
   "metadata": {},
   "outputs": [
    {
     "data": {
      "text/plain": [
       "array([[ 0.39153199,  0.36198554,  0.15985386, -0.53093108],\n",
       "       [ 0.11387803, -0.5484994 , -1.54171169, -0.62920364],\n",
       "       [ 0.79700263, -0.2655282 , -1.86291094,  0.76803172],\n",
       "       [-1.59876031,  1.57660297, -0.02429887, -3.23926307]])"
      ]
     },
     "execution_count": 67,
     "metadata": {},
     "output_type": "execute_result"
    }
   ],
   "source": [
    "np.random.randn(4,4)"
   ]
  },
  {
   "cell_type": "code",
   "execution_count": 68,
   "id": "c6e03309",
   "metadata": {},
   "outputs": [
    {
     "data": {
      "text/plain": [
       "array([[ 14.20024911, -15.26525472,   0.55986615,   6.6486099 ],\n",
       "       [  1.15501744,  -5.75199375,   3.72329606,  -9.71835021],\n",
       "       [ -6.79984796, -16.35400437,  25.01572806,  14.28146349],\n",
       "       [ -4.89285042,   0.92619083,  -3.67565027,   3.13076639]])"
      ]
     },
     "execution_count": 68,
     "metadata": {},
     "output_type": "execute_result"
    }
   ],
   "source": [
    "array = 10 * np.random.randn(4,4)\n",
    "array"
   ]
  },
  {
   "cell_type": "markdown",
   "id": "13512333",
   "metadata": {},
   "source": [
    "# Mean"
   ]
  },
  {
   "cell_type": "code",
   "execution_count": 69,
   "id": "75cbe3b9",
   "metadata": {},
   "outputs": [
    {
     "data": {
      "text/plain": [
       "0.448952231875707"
      ]
     },
     "execution_count": 69,
     "metadata": {},
     "output_type": "execute_result"
    }
   ],
   "source": [
    "array.mean()"
   ]
  },
  {
   "cell_type": "code",
   "execution_count": null,
   "id": "503d8b90",
   "metadata": {},
   "outputs": [],
   "source": [
    "# axis = 1 means row\n",
    "# axis = 0 mean column"
   ]
  },
  {
   "cell_type": "markdown",
   "id": "f2011003",
   "metadata": {},
   "source": [
    "# Numpy :1 = ROW & 0 = COLUMN"
   ]
  },
  {
   "cell_type": "code",
   "execution_count": 70,
   "id": "8d6ac41d",
   "metadata": {},
   "outputs": [
    {
     "data": {
      "text/plain": [
       "array([ 0.91564204, -9.1112655 ,  6.40581   ,  3.58562239])"
      ]
     },
     "execution_count": 70,
     "metadata": {},
     "output_type": "execute_result"
    }
   ],
   "source": [
    "array.mean(axis=0)"
   ]
  },
  {
   "cell_type": "code",
   "execution_count": 71,
   "id": "a856468a",
   "metadata": {},
   "outputs": [
    {
     "data": {
      "text/plain": [
       "array([ 1.53586761, -2.64800761,  4.0358348 , -1.12788587])"
      ]
     },
     "execution_count": 71,
     "metadata": {},
     "output_type": "execute_result"
    }
   ],
   "source": [
    "array.mean(axis=1)"
   ]
  },
  {
   "cell_type": "code",
   "execution_count": 79,
   "id": "6960d5d8",
   "metadata": {},
   "outputs": [
    {
     "data": {
      "text/plain": [
       "66"
      ]
     },
     "execution_count": 79,
     "metadata": {},
     "output_type": "execute_result"
    }
   ],
   "source": [
    "ex = np.array([[11,12],[21,22]])\n",
    "np.sum(ex)"
   ]
  },
  {
   "cell_type": "code",
   "execution_count": 80,
   "id": "af918c5b",
   "metadata": {},
   "outputs": [
    {
     "data": {
      "text/plain": [
       "array([36, 66])"
      ]
     },
     "execution_count": 80,
     "metadata": {},
     "output_type": "execute_result"
    }
   ],
   "source": [
    "ex1= np.array([[11,12,13],[21,22,23]])\n",
    "np.sum(ex1,axis = 1)"
   ]
  },
  {
   "cell_type": "code",
   "execution_count": 82,
   "id": "8ed29a3d",
   "metadata": {},
   "outputs": [
    {
     "data": {
      "text/plain": [
       "array([32, 34, 36])"
      ]
     },
     "execution_count": 82,
     "metadata": {},
     "output_type": "execute_result"
    }
   ],
   "source": [
    "ex1 = np.array([[11,12,13],[21,22,23]])\n",
    "np.sum(ex1,axis =0)"
   ]
  },
  {
   "cell_type": "code",
   "execution_count": null,
   "id": "ee792611",
   "metadata": {},
   "outputs": [],
   "source": []
  }
 ],
 "metadata": {
  "kernelspec": {
   "display_name": "Python 3 (ipykernel)",
   "language": "python",
   "name": "python3"
  },
  "language_info": {
   "codemirror_mode": {
    "name": "ipython",
    "version": 3
   },
   "file_extension": ".py",
   "mimetype": "text/x-python",
   "name": "python",
   "nbconvert_exporter": "python",
   "pygments_lexer": "ipython3",
   "version": "3.10.9"
  }
 },
 "nbformat": 4,
 "nbformat_minor": 5
}
